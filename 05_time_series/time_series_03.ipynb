{
 "cells": [
  {
   "cell_type": "markdown",
   "metadata": {},
   "source": [
    "# Low-pass, high-pass, and band-pass filtering of time series\n",
    "\n",
    "This notebook contains a short example of low-pass, high-pass, and band-pass filtering. "
   ]
  },
  {
   "cell_type": "code",
   "execution_count": 192,
   "metadata": {},
   "outputs": [],
   "source": [
    "import pandas as pd\n",
    "import numpy as np\n",
    "import matplotlib.pyplot as plt\n",
    "\n",
    "from scipy.signal import butter, filtfilt\n"
   ]
  },
  {
   "cell_type": "markdown",
   "metadata": {},
   "source": [
    "Let's get our CO2 data again and add the datetime index:"
   ]
  },
  {
   "cell_type": "code",
   "execution_count": null,
   "metadata": {},
   "outputs": [],
   "source": [
    "# get the CO2 data from the csv file\n",
    "df = pd.read_csv('co2_mm_mlo.csv')\n",
    "\n",
    "# combine 'year' and 'month' into a single new datetime column called 'date'\n",
    "df['date'] = pd.to_datetime(df[['year', 'month']].assign(day=1))  # required to have 'day=1' here, which makes it a proper datetime value \n",
    "\n",
    "# now set the 'date' column as the index\n",
    "df.set_index('date', inplace=True)\n",
    "\n",
    "# now we can drop the columns that we aren't going to use - note you need to specify 'axis' for this drop operation\n",
    "df.drop(['year', 'month'], axis=1, inplace=True) \n",
    "\n",
    "co2 = df['co2']\n",
    "\n",
    "# and let's visualize our data\n",
    "plt.figure(figsize=(8, 6))\n",
    "plt.plot(co2,'k')\n",
    "plt.xlabel('YEAR')\n",
    "plt.ylabel('CO2 (ppm)')\n",
    "plt.title('Mauna Loa Atmospheric CO2')\n",
    "plt.show()\n"
   ]
  },
  {
   "cell_type": "markdown",
   "metadata": {},
   "source": [
    "Here we build a function for the Butterworth digital filter.  The function combines several things we need to do for filtering.  First, it determines the normalized cutoff frequency, based on the time steps between samples (the sampling frequency, fs) and the requested cutoff frequency.  The function then gets the coefficients that describe the shape of the Butterworth filter itself.  The function also pads the data at either end, which helps minimiize end effects from the filtering.  The function then applies `filtfilt`, which pass the Butterworth filter we designed forward and backward over the time series (this improve the phase of the filter).  Finally, it removes the padding and returns the Pandas series with its datetime index intact:"
   ]
  },
  {
   "cell_type": "code",
   "execution_count": 194,
   "metadata": {},
   "outputs": [],
   "source": [
    "def butterworth_filter(data, cutoff, fs, order=6, filter_type='low'):\n",
    "    \n",
    "    # get the Nyquist frequency\n",
    "    nyquist = 0.5 * fs \n",
    "    \n",
    "    # normalize the cutoff frequency (or frequencies if band-pass)\n",
    "    normal_cutoff = np.array(cutoff) / nyquist\n",
    "\n",
    "    # get the parameters for the Butterworth filter\n",
    "    b, a = butter(order, normal_cutoff, btype=filter_type, analog=False)\n",
    "    \n",
    "    # Now we pad the data at both ends to deal with possible edge effects - see here: https://numpy.org/doc/2.0/reference/generated/numpy.pad.html\n",
    "    pad_len = len(data) # pad with length of series\n",
    "    data_padded = np.pad(data,pad_len, mode=\"symmetric\")  # should probably make 'mode' an input option\n",
    "    \n",
    "    # Apply backward-forward filter (filtfilt) to the padded data\n",
    "    filtered_data_padded = filtfilt(b, a, data_padded)\n",
    "    \n",
    "    # Remove the padding to return the filtered data with the original length\n",
    "    filtered_data = filtered_data_padded[pad_len:-pad_len]\n",
    "    \n",
    "    # Convert the filtered data back into a Pandas Series so it keeps the original (time) index\n",
    "    filtered_series = pd.Series(filtered_data, index=data.index)\n",
    "    \n",
    "    return filtered_series"
   ]
  },
  {
   "cell_type": "markdown",
   "metadata": {},
   "source": [
    "Let's apply the Butterworth filter above to our CO2 time series.  For now we'll just use the low-pass filter and the high--pass filteR:"
   ]
  },
  {
   "cell_type": "code",
   "execution_count": 195,
   "metadata": {},
   "outputs": [],
   "source": [
    "# Sampling frequency - for monthly data, fs = 12, or '12 samples per year', which affects the normalized cutoff frequency)\n",
    "fs = 12\n",
    "\n",
    "# Performs the low-pass filter\n",
    "cutoff_low = 0.05 \n",
    "co2_lowpass = butterworth_filter(co2, cutoff_low, fs, order=6, filter_type='low')\n",
    "\n",
    "# Now the high-pass filter\n",
    "cutoff_high = 0.1  # You can adjust this cutoff value\n",
    "co2_highpass = butterworth_filter(co2, cutoff_high, fs, order=6, filter_type='high')\n"
   ]
  },
  {
   "cell_type": "markdown",
   "metadata": {},
   "source": [
    "And let's plot both of the filtered time series:"
   ]
  },
  {
   "cell_type": "code",
   "execution_count": null,
   "metadata": {},
   "outputs": [],
   "source": [
    "# Plot the original and filtered data\n",
    "plt.figure(figsize=(7, 9))\n",
    "\n",
    "# Plot the original CO2 data and the low-pas filter through it\n",
    "plt.subplot(3, 1, 1)\n",
    "plt.plot(co2, label='Original CO2 Data', color='black')\n",
    "plt.plot(co2_lowpass, label='Low-Pass Filter', color='red')\n",
    "plt.title('Original CO2 Data and Low-Pass Filter')\n",
    "\n",
    "# Plot the high-pass filtered data separately \n",
    "plt.subplot(3, 1, 2)\n",
    "plt.plot(co2_highpass, label='High-Pass Filter', color='black')\n",
    "plt.title('High-Pass Filtered Data')\n",
    "\n",
    "plt.tight_layout()\n",
    "plt.show()"
   ]
  },
  {
   "cell_type": "markdown",
   "metadata": {},
   "source": [
    "We can see that we've isolated the lowest frequency component (the non-linear trend) and the seasonal cycle using the low-pass and high-pass filter, respectively.  Notice that the end of the low-pass isn't perfectly fit.  Why do you think that might be?  How might you approach dealing with this? "
   ]
  },
  {
   "cell_type": "markdown",
   "metadata": {},
   "source": [
    "## Band-pass filter and the danger of filtering noise"
   ]
  },
  {
   "cell_type": "markdown",
   "metadata": {},
   "source": [
    "As a demonstration of the band-pass filter, let's create and filter some very long series of Gaussian noise:"
   ]
  },
  {
   "cell_type": "code",
   "execution_count": 197,
   "metadata": {},
   "outputs": [],
   "source": [
    "# set the random seed so we all get the same result in class\n",
    "np.random.seed(1999)\n",
    "\n",
    "# Generate long two arrays of random data\n",
    "x = np.random.randn(1000)\n",
    "y = np.random.randn(1000)\n",
    "\n",
    "# Create an index that is time-like\n",
    "index = pd.RangeIndex(start=0, stop=1000, step=1)\n",
    "\n",
    "# Convert x and y to Pandas Series and add that index - this is out 'time' dimension\n",
    "x_series = pd.Series(x, index=index, name='x')\n",
    "y_series = pd.Series(y, index=index, name='y')\n"
   ]
  },
  {
   "cell_type": "markdown",
   "metadata": {},
   "source": [
    "Let's plot the noise series - notice they (1) don't look anything alike, and (2) there is no evidence of periodic or cyclical behavior:"
   ]
  },
  {
   "cell_type": "code",
   "execution_count": null,
   "metadata": {},
   "outputs": [],
   "source": [
    "# Create a figure with two subplots \n",
    "fig, (ax1, ax2) = plt.subplots(1, 2, figsize=(8, 4)) \n",
    "\n",
    "# First panel: Line plot of x and y over time\n",
    "ax1.plot(x, '-r', linewidth=0.5, label='x')\n",
    "ax1.plot(y, '-b', linewidth=0.5, label='y')\n",
    "ax1.set_xlabel('Time')\n",
    "ax1.set_ylabel('Values')\n",
    "ax1.legend()\n",
    "\n",
    "# Second panel: Scatter plot of x vs y\n",
    "ax2.scatter(x, y,color='r')\n",
    "ax2.set_xlabel('x')\n",
    "ax2.set_ylabel('y')\n",
    "\n",
    "plt.tight_layout()\n",
    "plt.show()"
   ]
  },
  {
   "cell_type": "markdown",
   "metadata": {},
   "source": [
    "Let's perform a band-pass filter now on both white noise series and plot the results:"
   ]
  },
  {
   "cell_type": "code",
   "execution_count": null,
   "metadata": {},
   "outputs": [],
   "source": [
    "fs = 1 # no seasonality now, e.g looking at a sampling frequency of a a year\n",
    "\n",
    "cutoff_low_band = 0.01\n",
    "cutoff_high_band = 0.05\n",
    "\n",
    "x_bandpass = butterworth_filter(x_series, [cutoff_low_band, cutoff_high_band], fs, order=6, filter_type='band')\n",
    "y_bandpass = butterworth_filter(y_series, [cutoff_low_band, cutoff_high_band], fs, order=6, filter_type='band')\n",
    "\n",
    "plt.plot(x_bandpass.index, x_bandpass, '-r', linewidth=0.5)\n",
    "plt.plot(y_bandpass.index, y_bandpass, '-b', linewidth=0.5)\n",
    "plt.xlabel('Time')\n",
    "plt.show()"
   ]
  },
  {
   "cell_type": "markdown",
   "metadata": {},
   "source": [
    "Notice that passing a filter over noise created the appearance of periodic or cyclical behavior.  You might even be tempted to look for places where both of our filtered series are in (or out) of sync.  But remember the underlying time series here are just noise!  With filtering comes great responsibility, which also applied to spectral analysis, which we'll do next week. "
   ]
  }
 ],
 "metadata": {
  "kernelspec": {
   "display_name": "base",
   "language": "python",
   "name": "python3"
  },
  "language_info": {
   "codemirror_mode": {
    "name": "ipython",
    "version": 3
   },
   "file_extension": ".py",
   "mimetype": "text/x-python",
   "name": "python",
   "nbconvert_exporter": "python",
   "pygments_lexer": "ipython3",
   "version": "3.11.0"
  }
 },
 "nbformat": 4,
 "nbformat_minor": 2
}
