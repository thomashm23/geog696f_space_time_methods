{
 "cells": [
  {
   "cell_type": "markdown",
   "metadata": {},
   "source": [
    "# The Color of Noise\n",
    "\n",
    "This is a short notebook to accompany our lecture on power laws, noise processes, and their spectra.\n",
    "\n",
    "We'll load Numpy, Matplotlib, the Periodogram and Scipy, and set some simple defaults. "
   ]
  },
  {
   "cell_type": "code",
   "execution_count": 11,
   "metadata": {},
   "outputs": [],
   "source": [
    "import numpy as np\n",
    "import matplotlib.pyplot as plt\n",
    "from scipy.signal import periodogram\n",
    "import matplotlib.pyplot as plt \n",
    "\n",
    "# you can omit the line below if you'd like, but I really don't like the default fonts in Python, so I switch to Helvetica\n",
    "plt.rcParams['font.family'] = 'Helvetica'\n",
    "\n",
    "# ignore some warnings related to the FFT, but recommend YOU only do this once you know what those warnings are! \n",
    "import warnings\n",
    "warnings.filterwarnings(\"ignore\")\n"
   ]
  },
  {
   "cell_type": "markdown",
   "metadata": {},
   "source": [
    "The next code block contains a function that generates noise based on power-law scaling.  We start from white noise, transform that time series to frequency space, and then create a scaling factor that is a function of the frequency (in class we'll talk about the basis of the exponent choice for the scaling).  The scaling is then applied to the transformed white noise, and then we use the inverse Fournier transform to go back to temporal space:"
   ]
  },
  {
   "cell_type": "code",
   "execution_count": 12,
   "metadata": {},
   "outputs": [],
   "source": [
    "def generate_noise(exponent, size):\n",
    "   \n",
    "    # first generate Gaussian (white) noise from the random normal distribution\n",
    "    white_noise = np.random.normal(size=size)\n",
    "    \n",
    "    # now, we transform that white noise using FFT into frequency space\n",
    "    ft = np.fft.rfft(white_noise)\n",
    "    \n",
    "    # ... and we get the frequencies corresponding the transformed time series\n",
    "    freqs = np.fft.rfftfreq(size)\n",
    "    \n",
    "    # now we generate the power-law scaling, using the np.where syntax (if the first input condition is true, we do the second input, but then apply the third input everywhere else where it isn't)\n",
    "    scaling_factors = np.where(freqs == 0, 0, freqs**(exponent / 2.0)) \n",
    "    \n",
    "    # apply the scaling factors we generated to the transformed white noise \n",
    "    ft_scaled = ft * scaling_factors\n",
    "    \n",
    "    # ... and use the inverse Fourier transform to go from scaled spectra back to time domain\n",
    "    noise = np.fft.irfft(ft_scaled, n=size) # need to specify size? Hmm\n",
    "    \n",
    "    return noise"
   ]
  },
  {
   "cell_type": "markdown",
   "metadata": {},
   "source": [
    "Let's use the function now - we'll generate 1000 'year' long noise series, passing the exponents for the scaling relationship we discussed in class: "
   ]
  },
  {
   "cell_type": "code",
   "execution_count": 13,
   "metadata": {},
   "outputs": [],
   "source": [
    "# let's generate a 1000 'year' noise sequence now for white, red, and blue noise\n",
    "size = 1000\n",
    "\n",
    "# Generate Gaussian (white) noise (exponent = 0)\n",
    "white_noise = generate_noise(0, size)\n",
    "\n",
    "# Generate red noise (exponent = -2)\n",
    "red_noise = generate_noise(-2, size)\n",
    "\n",
    "# Generate blue noise (exponent = 2)\n",
    "blue_noise = generate_noise(2, size)\n"
   ]
  },
  {
   "cell_type": "markdown",
   "metadata": {},
   "source": [
    "We'll first plot the time series that resulted from the noise-generating function:"
   ]
  },
  {
   "cell_type": "code",
   "execution_count": null,
   "metadata": {},
   "outputs": [],
   "source": [
    "# Plot the noise time series\n",
    "plt.figure(figsize=(8, 6))\n",
    "\n",
    "plt.subplot(3, 1, 1)\n",
    "plt.plot(white_noise,color='silver')\n",
    "plt.title(\"White Noise (Gaussian Noise)\")\n",
    "\n",
    "plt.subplot(3, 1, 2)\n",
    "plt.plot(red_noise, color='crimson')\n",
    "plt.title(\"Red Noise\")\n",
    "\n",
    "plt.subplot(3, 1, 3)\n",
    "plt.plot(blue_noise, color='dodgerblue')\n",
    "plt.title(\"Blue Noise\")\n",
    "plt.xlabel('Time')\n",
    "\n",
    "plt.tight_layout()\n",
    "plt.show()\n"
   ]
  },
  {
   "cell_type": "markdown",
   "metadata": {},
   "source": [
    "Now let's get the power spectra for each noise time series as a way to look at the characteristic spectra of each.  Note that we could have also gotten this directly from the function that generated the noise, since this is (in effect) how we created it in the first place! "
   ]
  },
  {
   "cell_type": "code",
   "execution_count": null,
   "metadata": {},
   "outputs": [],
   "source": [
    "# Calculate power spectra using Scipy's periodogram (defaults are fine for our purposes here)\n",
    "white_freqs, white_psd = periodogram(white_noise)\n",
    "red_freqs, red_psd = periodogram(red_noise)\n",
    "blue_freqs, blue_psd = periodogram(blue_noise)\n",
    "\n",
    "# Plot the spectra \n",
    "plt.figure(figsize=(12, 4))\n",
    "\n",
    "# white noise\n",
    "plt.subplot(1, 3, 1)\n",
    "plt.loglog(white_freqs[1:], white_psd[1:],color='silver')\n",
    "plt.title(\"White Noise Spectrum\")\n",
    "plt.xlabel(\"Frequency (cycles per time)\")\n",
    "plt.ylabel(\"Power Spectral Density\")\n",
    "plt.grid(True)\n",
    "\n",
    "# red noise\n",
    "plt.subplot(1, 3, 2)\n",
    "plt.loglog(red_freqs[1:], red_psd[1:], color='crimson')\n",
    "plt.title(\"Red Noise Spectrum\")\n",
    "plt.xlabel(\"Frequency (cycles per time)\")\n",
    "plt.grid(True)\n",
    "\n",
    "# blue noise\n",
    "plt.subplot(1, 3, 3)\n",
    "plt.loglog(blue_freqs[1:], blue_psd[1:], color='dodgerblue')\n",
    "plt.title(\"Blue Noise Spectrum\")\n",
    "plt.xlabel(\"Frequency (cycles per time)\")\n",
    "plt.grid(True)\n",
    "\n",
    "plt.tight_layout()\n",
    "plt.show()\n"
   ]
  }
 ],
 "metadata": {
  "kernelspec": {
   "display_name": "base",
   "language": "python",
   "name": "python3"
  },
  "language_info": {
   "codemirror_mode": {
    "name": "ipython",
    "version": 3
   },
   "file_extension": ".py",
   "mimetype": "text/x-python",
   "name": "python",
   "nbconvert_exporter": "python",
   "pygments_lexer": "ipython3",
   "version": "3.11.0"
  }
 },
 "nbformat": 4,
 "nbformat_minor": 2
}
