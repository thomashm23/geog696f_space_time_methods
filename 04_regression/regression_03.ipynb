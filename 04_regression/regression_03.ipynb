{
 "cells": [
  {
   "cell_type": "markdown",
   "metadata": {},
   "source": [
    "# Non-linear curve fitting with `Scipy`\n",
    "\n",
    "This notebook shows a simple example of fitting a non-linear curve (in this case, expotential) to a set of $X$ and $Y$ data. Statsmodels is strongest for linear curve fitting (as well as time series analysis).  But `Scipy` might be your tool of choice if the relationship you are fitting is non-linear.  We're going to use `curve_fit` from Scipy -- see more here: https://docs.scipy.org/doc/scipy/reference/generated/scipy.optimize.curve_fit.html\n",
    "\n",
    "We'll first import our libaries:"
   ]
  },
  {
   "cell_type": "code",
   "execution_count": 10,
   "metadata": {},
   "outputs": [],
   "source": [
    "import numpy as np\n",
    "import matplotlib.pyplot as plt\n",
    "from scipy.optimize import curve_fit # this is the scipy function we'll use to do our curve fitting\n",
    "\n",
    "# you can omit the line below if you'd like, but I really don't like the default fonts in Python, so I switch to Helvetica\n",
    "plt.rcParams['font.family'] = 'Helvetica'"
   ]
  },
  {
   "cell_type": "code",
   "execution_count": 11,
   "metadata": {},
   "outputs": [],
   "source": [
    "# Generate synthetic data for the example\n",
    "np.random.seed(1999)\n",
    "X = np.linspace(0, 1, 50)\n",
    "\n",
    "# specify the true parameters for the fit\n",
    "a = 2\n",
    "b = 2.5\n",
    "\n",
    "Y = a * np.exp(b * X) + np.random.normal(0, 1, size=X.shape)"
   ]
  },
  {
   "cell_type": "markdown",
   "metadata": {},
   "source": [
    "Let's take a quick look at what our data now look like:"
   ]
  },
  {
   "cell_type": "code",
   "execution_count": null,
   "metadata": {},
   "outputs": [],
   "source": [
    "plt.plot(X,Y,'.')\n",
    "plt.show()"
   ]
  },
  {
   "cell_type": "markdown",
   "metadata": {},
   "source": [
    "In order to use `curve_fit`, we need to specify the structure of the model.  We can do this as a function with a very simple model structure:"
   ]
  },
  {
   "cell_type": "code",
   "execution_count": 13,
   "metadata": {},
   "outputs": [],
   "source": [
    "# Define the exponential function we want to fit using curve_fit\n",
    "def exponential_function(x, a, b):\n",
    "    return a * np.exp(b * x)"
   ]
  },
  {
   "cell_type": "markdown",
   "metadata": {},
   "source": [
    "In the above, the function accepts the predictor (x), and two parameters of the exponential function.  Note that this function just looks like something we could call to create an exponential data series (in fact, as we did above), but it can also be passed as a function to Scipy's `curve_fit` to specify the functional form of the curve we want to fit!  \n",
    "\n",
    "We are now ready to call our curve fitting routine.  We have the definition of our curve as a function and we have X and Y.  Take another look at [curve_fit](https://docs.scipy.org/doc/scipy/reference/generated/scipy.optimize.curve_fit.html) and review the parameters and options.  We could provide an initial guess ($p0$) or bound the parameters (e.g. require them to be positive or negative), for instance.  For now we'll make a simple call.  The function returns **popt**, which will contain the values for the parameters ($a$ and $b$ in this case), as well as **pcov2**, which is the covariance of the parameters, which can be used in turn to calculate standard deviations on the parameter estimates, see [here](https://docs.scipy.org/doc/scipy/reference/generated/scipy.optimize.curve_fit.html)."
   ]
  },
  {
   "cell_type": "code",
   "execution_count": null,
   "metadata": {},
   "outputs": [],
   "source": [
    "# Use curve_fit to find the best fit parameters (a, b)\n",
    "popt, pcov = curve_fit(exponential_function, X, Y)  # p0 are the initial guesses for a and b\n",
    "print(popt) # first output is the estimated a and b parameters, the second array are the \n"
   ]
  },
  {
   "cell_type": "markdown",
   "metadata": {},
   "source": [
    "Note that our estimates for $a$ and $b$ are pretty close -- we underestimate $a$ (2 vs. estimated 1.89) and get quite close to $b$ (2.5 vs. 2.56 estimated).\n",
    "\n",
    "In order to create estimated values from our model fit, we call `exponential_function` again:"
   ]
  },
  {
   "cell_type": "code",
   "execution_count": 15,
   "metadata": {},
   "outputs": [],
   "source": [
    "# Generate the predicted Y values using the output from the fitted model\n",
    "Y_pred = exponential_function(X, *popt) # pre-pending the * lets us pass the 2 coefficients at the same time, without splitting them up into popt[0] and popt[1]"
   ]
  },
  {
   "cell_type": "markdown",
   "metadata": {},
   "source": []
  },
  {
   "cell_type": "code",
   "execution_count": null,
   "metadata": {},
   "outputs": [],
   "source": [
    "# Plot the original data and the fitted curve\n",
    "plt.scatter(X, Y, label='Y Actual', color='blue')\n",
    "plt.plot(X, Y_pred, label='Y estimated', color='red')\n",
    "plt.legend()\n",
    "plt.xlabel('X')\n",
    "plt.ylabel('Y')\n",
    "plt.title('Exponential Fit')\n",
    "plt.show()"
   ]
  },
  {
   "cell_type": "markdown",
   "metadata": {},
   "source": [
    "### Extra: a non-parametric approach to uncertainty estimatation for exponential fitting"
   ]
  },
  {
   "cell_type": "code",
   "execution_count": 17,
   "metadata": {},
   "outputs": [],
   "source": [
    "# Standard deviations (uncertainties) of the parameters from the covariance matrix\n",
    "perr = np.sqrt(np.diag(pcov))\n",
    "\n",
    "# non-parametric sampling - create n_samples of a multivariante normal draw with out parameters and our covariance\n",
    "n_samples = 1000\n",
    "parameter_samples = np.random.multivariate_normal(popt, pcov, size=n_samples)\n",
    "\n",
    "# Initialize empty list to hold the results of the sampling loop\n",
    "Y_samples = []\n",
    "\n",
    "# Loop over each set of parameters \n",
    "for params in parameter_samples:\n",
    "    Y_sample = exponential_function(X, *params) # Compute the predicted Y values for the current set of parameters\n",
    "    Y_samples.append(Y_sample) # Append the result to the Y_samples list\n",
    "\n",
    "# Convert the list of samples into a NumPy array\n",
    "Y_samples = np.array(Y_samples)\n",
    "\n",
    "# alternatively, you could do the entire look above in one line comprehension:\n",
    "# Y_samples = np.array([exponential_function(X, *params) for params in parameter_samples])\n",
    "\n",
    "# Calculate the 95% confidence interval \n",
    "Y_lower = np.percentile(Y_samples, 2.5, axis=0) # gets the 2.5%th value from the distribution \n",
    "Y_upper = np.percentile(Y_samples, 97.5, axis=0) # gets the 97.5%th value from the distribution - collectively then this spans 95% of the values in the distribution "
   ]
  },
  {
   "cell_type": "code",
   "execution_count": null,
   "metadata": {},
   "outputs": [],
   "source": [
    "# Plot the data, the fit, and the confidence interval\n",
    "plt.scatter(X, Y, label='Y Actual', color='blue')\n",
    "plt.plot(X, Y_pred, label='Y Estimated', color='red')\n",
    "plt.fill_between(X, Y_lower, Y_upper, color='red', alpha=0.25, label='95% Confidence Interval')\n",
    "plt.legend()\n",
    "plt.xlabel('X')\n",
    "plt.ylabel('Y')\n",
    "plt.title('Exponential Fit with 95% Confidence Interval')\n",
    "plt.show()"
   ]
  }
 ],
 "metadata": {
  "kernelspec": {
   "display_name": "base",
   "language": "python",
   "name": "python3"
  },
  "language_info": {
   "codemirror_mode": {
    "name": "ipython",
    "version": 3
   },
   "file_extension": ".py",
   "mimetype": "text/x-python",
   "name": "python",
   "nbconvert_exporter": "python",
   "pygments_lexer": "ipython3",
   "version": "3.11.0"
  }
 },
 "nbformat": 4,
 "nbformat_minor": 2
}
